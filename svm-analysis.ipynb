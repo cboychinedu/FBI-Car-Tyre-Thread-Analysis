{
 "cells": [
  {
   "cell_type": "code",
   "execution_count": 1,
   "id": "1379cd7c-52c1-4726-a69d-e51122f20dba",
   "metadata": {
    "tags": []
   },
   "outputs": [],
   "source": [
    "#!/usr/bin/env python3 "
   ]
  },
  {
   "cell_type": "code",
   "execution_count": 4,
   "id": "cfb399ed-401c-4dd7-af6f-5696bcc84020",
   "metadata": {
    "tags": []
   },
   "outputs": [],
   "source": [
    "# import the necessary packages \n",
    "from sklearn.neighbors import KNeighborsClassifier \n",
    "from sklearn.model_selection import train_test_split \n",
    "from imutils.paths import list_images \n",
    "from imutils import paths \n",
    "import numpy as np \n",
    "import imutils \n",
    "import cv2 \n",
    "import os "
   ]
  },
  {
   "cell_type": "code",
   "execution_count": 6,
   "id": "431e1568-0717-4a3a-b1ce-2fa5bfc6766f",
   "metadata": {
    "tags": []
   },
   "outputs": [],
   "source": [
    "# Dataset \n",
    "imageDataSet = \"dataset/\"\n",
    "\n",
    "# Setting the data and labels \n",
    "data = []\n",
    "labels = [] \n",
    "\n",
    "\n",
    "# Grab the list of images in our dataset directory, then \n",
    "# initialize the list of data, and class images \n",
    "imagePaths = list(list_images(imageDataSet)) \n",
    "\n",
    "# Loop over the images paths \n",
    "for imagePath in imagePaths: \n",
    "    # Extract the class label from the filename \n",
    "    label = imagePath.split(\"/\")[-2] \n",
    "    \n",
    "    # Load the image, swap color channels, and resize it to be a \n",
    "    # fixed 224 X 224 pixel whilte ignoreing aspect ratio \n",
    "    image = cv2.imread(imagePath) \n",
    "    # image = cv2.cvtColor(image, cv2.COLOR_BGR2GRAY) \n",
    "    image = cv2.resize(image, (250,  250)).ravel()\n",
    "    \n",
    "    # Update the data and labels lists, respectively \n",
    "    data.append(image) \n",
    "    labels.append(label)\n",
    "    \n",
    "# Convert the data and labels to numpy arrays while scaling \n",
    "# the pixel intensities to the range [0 -1] \n",
    "data = np.array(data)  \n",
    "labels = np.array(labels) "
   ]
  },
  {
   "cell_type": "code",
   "execution_count": 7,
   "id": "006a6f3f-5045-4538-8f51-52dc02247501",
   "metadata": {
    "tags": []
   },
   "outputs": [
    {
     "name": "stdout",
     "output_type": "stream",
     "text": [
      "Input Shape: (1500, 187500)\n",
      "Output Shape: (1500,)\n"
     ]
    }
   ],
   "source": [
    "# Displaying the shape of the input and output variables \n",
    "print(f'Input Shape: {data.shape}') \n",
    "print(f'Output Shape: {labels.shape}') "
   ]
  },
  {
   "cell_type": "code",
   "execution_count": 8,
   "id": "7c4f4b2a-f91c-47f4-a16b-060ff87aeaee",
   "metadata": {
    "tags": []
   },
   "outputs": [
    {
     "data": {
      "text/html": [
       "<style>#sk-container-id-1 {color: black;background-color: white;}#sk-container-id-1 pre{padding: 0;}#sk-container-id-1 div.sk-toggleable {background-color: white;}#sk-container-id-1 label.sk-toggleable__label {cursor: pointer;display: block;width: 100%;margin-bottom: 0;padding: 0.3em;box-sizing: border-box;text-align: center;}#sk-container-id-1 label.sk-toggleable__label-arrow:before {content: \"▸\";float: left;margin-right: 0.25em;color: #696969;}#sk-container-id-1 label.sk-toggleable__label-arrow:hover:before {color: black;}#sk-container-id-1 div.sk-estimator:hover label.sk-toggleable__label-arrow:before {color: black;}#sk-container-id-1 div.sk-toggleable__content {max-height: 0;max-width: 0;overflow: hidden;text-align: left;background-color: #f0f8ff;}#sk-container-id-1 div.sk-toggleable__content pre {margin: 0.2em;color: black;border-radius: 0.25em;background-color: #f0f8ff;}#sk-container-id-1 input.sk-toggleable__control:checked~div.sk-toggleable__content {max-height: 200px;max-width: 100%;overflow: auto;}#sk-container-id-1 input.sk-toggleable__control:checked~label.sk-toggleable__label-arrow:before {content: \"▾\";}#sk-container-id-1 div.sk-estimator input.sk-toggleable__control:checked~label.sk-toggleable__label {background-color: #d4ebff;}#sk-container-id-1 div.sk-label input.sk-toggleable__control:checked~label.sk-toggleable__label {background-color: #d4ebff;}#sk-container-id-1 input.sk-hidden--visually {border: 0;clip: rect(1px 1px 1px 1px);clip: rect(1px, 1px, 1px, 1px);height: 1px;margin: -1px;overflow: hidden;padding: 0;position: absolute;width: 1px;}#sk-container-id-1 div.sk-estimator {font-family: monospace;background-color: #f0f8ff;border: 1px dotted black;border-radius: 0.25em;box-sizing: border-box;margin-bottom: 0.5em;}#sk-container-id-1 div.sk-estimator:hover {background-color: #d4ebff;}#sk-container-id-1 div.sk-parallel-item::after {content: \"\";width: 100%;border-bottom: 1px solid gray;flex-grow: 1;}#sk-container-id-1 div.sk-label:hover label.sk-toggleable__label {background-color: #d4ebff;}#sk-container-id-1 div.sk-serial::before {content: \"\";position: absolute;border-left: 1px solid gray;box-sizing: border-box;top: 0;bottom: 0;left: 50%;z-index: 0;}#sk-container-id-1 div.sk-serial {display: flex;flex-direction: column;align-items: center;background-color: white;padding-right: 0.2em;padding-left: 0.2em;position: relative;}#sk-container-id-1 div.sk-item {position: relative;z-index: 1;}#sk-container-id-1 div.sk-parallel {display: flex;align-items: stretch;justify-content: center;background-color: white;position: relative;}#sk-container-id-1 div.sk-item::before, #sk-container-id-1 div.sk-parallel-item::before {content: \"\";position: absolute;border-left: 1px solid gray;box-sizing: border-box;top: 0;bottom: 0;left: 50%;z-index: -1;}#sk-container-id-1 div.sk-parallel-item {display: flex;flex-direction: column;z-index: 1;position: relative;background-color: white;}#sk-container-id-1 div.sk-parallel-item:first-child::after {align-self: flex-end;width: 50%;}#sk-container-id-1 div.sk-parallel-item:last-child::after {align-self: flex-start;width: 50%;}#sk-container-id-1 div.sk-parallel-item:only-child::after {width: 0;}#sk-container-id-1 div.sk-dashed-wrapped {border: 1px dashed gray;margin: 0 0.4em 0.5em 0.4em;box-sizing: border-box;padding-bottom: 0.4em;background-color: white;}#sk-container-id-1 div.sk-label label {font-family: monospace;font-weight: bold;display: inline-block;line-height: 1.2em;}#sk-container-id-1 div.sk-label-container {text-align: center;}#sk-container-id-1 div.sk-container {/* jupyter's `normalize.less` sets `[hidden] { display: none; }` but bootstrap.min.css set `[hidden] { display: none !important; }` so we also need the `!important` here to be able to override the default hidden behavior on the sphinx rendered scikit-learn.org. See: https://github.com/scikit-learn/scikit-learn/issues/21755 */display: inline-block !important;position: relative;}#sk-container-id-1 div.sk-text-repr-fallback {display: none;}</style><div id=\"sk-container-id-1\" class=\"sk-top-container\"><div class=\"sk-text-repr-fallback\"><pre>KNeighborsClassifier()</pre><b>In a Jupyter environment, please rerun this cell to show the HTML representation or trust the notebook. <br />On GitHub, the HTML representation is unable to render, please try loading this page with nbviewer.org.</b></div><div class=\"sk-container\" hidden><div class=\"sk-item\"><div class=\"sk-estimator sk-toggleable\"><input class=\"sk-toggleable__control sk-hidden--visually\" id=\"sk-estimator-id-1\" type=\"checkbox\" checked><label for=\"sk-estimator-id-1\" class=\"sk-toggleable__label sk-toggleable__label-arrow\">KNeighborsClassifier</label><div class=\"sk-toggleable__content\"><pre>KNeighborsClassifier()</pre></div></div></div></div></div>"
      ],
      "text/plain": [
       "KNeighborsClassifier()"
      ]
     },
     "execution_count": 8,
     "metadata": {},
     "output_type": "execute_result"
    }
   ],
   "source": [
    "# \n",
    "model = KNeighborsClassifier() \n",
    "model.fit(data, labels) "
   ]
  },
  {
   "cell_type": "code",
   "execution_count": null,
   "id": "9057ecec-1dec-43d1-b8af-f67f6e003ee0",
   "metadata": {
    "tags": []
   },
   "outputs": [],
   "source": [
    "model.score(data, labels) * 100.0 "
   ]
  },
  {
   "cell_type": "code",
   "execution_count": 27,
   "id": "eb00d1ee-96a0-4978-a399-24e3eeace866",
   "metadata": {},
   "outputs": [],
   "source": [
    "# Importing \n",
    "from sklearn.neighbors import KNeighborsClassifier \n",
    "from sklearn.model_selection import train_test_split \n",
    "from imutils.paths import list_images \n",
    "from imutils import paths \n",
    "import numpy as np \n",
    "import imutils \n",
    "import pickle \n",
    "import matplotlib.pyplot as plt \n",
    "import cv2 \n",
    "import os \n",
    "\n",
    "# loading the model and performing analysis on a \n",
    "# single image \n",
    "singleImage = \"dataset/typeA/typeA1.jpg\" "
   ]
  },
  {
   "cell_type": "code",
   "execution_count": 29,
   "id": "b59a63df-fc4e-49ed-b376-c3ba87d30cd1",
   "metadata": {
    "tags": []
   },
   "outputs": [],
   "source": [
    "image = cv2.imread(singleImage) \n",
    "image = cv2.resize(image, (250,  250)).ravel()"
   ]
  },
  {
   "cell_type": "code",
   "execution_count": null,
   "id": "bdb47b82-f915-42c7-bdf1-fec0adaa37ee",
   "metadata": {},
   "outputs": [],
   "source": []
  },
  {
   "cell_type": "code",
   "execution_count": 30,
   "id": "dfbd1dcf-460d-4fad-8054-a658eac6c845",
   "metadata": {
    "tags": []
   },
   "outputs": [],
   "source": [
    "loaded_model = pickle.load(open(\"backend-server/models/finalized_model.sav\", 'rb'))"
   ]
  },
  {
   "cell_type": "code",
   "execution_count": 41,
   "id": "05cda1af-4113-41de-983b-341dee140ebe",
   "metadata": {
    "tags": []
   },
   "outputs": [
    {
     "data": {
      "text/plain": [
       "['typeA', 'typeB', 'typeC', 'typeD', 'typeE', 'typeF']"
      ]
     },
     "execution_count": 41,
     "metadata": {},
     "output_type": "execute_result"
    }
   ],
   "source": [
    "list(loaded_model.classes_)"
   ]
  },
  {
   "cell_type": "code",
   "execution_count": 32,
   "id": "dce618b1-c711-499d-a5b3-6f25a05fc303",
   "metadata": {
    "tags": []
   },
   "outputs": [],
   "source": [
    "image = image.ravel() "
   ]
  },
  {
   "cell_type": "code",
   "execution_count": 33,
   "id": "40412097-0a88-405d-9d88-df58646804af",
   "metadata": {
    "tags": []
   },
   "outputs": [
    {
     "data": {
      "text/plain": [
       "(187500,)"
      ]
     },
     "execution_count": 33,
     "metadata": {},
     "output_type": "execute_result"
    }
   ],
   "source": [
    "image.shape"
   ]
  },
  {
   "cell_type": "code",
   "execution_count": 34,
   "id": "511060f4-e353-40b8-93e4-3a74a3fbf685",
   "metadata": {
    "tags": []
   },
   "outputs": [],
   "source": [
    "image = image.reshape(1, -1) "
   ]
  },
  {
   "cell_type": "code",
   "execution_count": 35,
   "id": "4d31bd9f-6ba8-47a9-b2ba-ba8386bca97a",
   "metadata": {
    "tags": []
   },
   "outputs": [
    {
     "data": {
      "text/plain": [
       "(1, 187500)"
      ]
     },
     "execution_count": 35,
     "metadata": {},
     "output_type": "execute_result"
    }
   ],
   "source": [
    "image.shape"
   ]
  },
  {
   "cell_type": "code",
   "execution_count": 43,
   "id": "3f22ccd3-e9f3-487f-9f0b-8add7eca0555",
   "metadata": {
    "tags": []
   },
   "outputs": [
    {
     "data": {
      "text/plain": [
       "'typeA'"
      ]
     },
     "execution_count": 43,
     "metadata": {},
     "output_type": "execute_result"
    }
   ],
   "source": [
    "loaded_model.predict(image)[0]\n"
   ]
  },
  {
   "cell_type": "code",
   "execution_count": null,
   "id": "9dc39c5e-1d6c-4c85-a019-6df6865db53d",
   "metadata": {
    "tags": []
   },
   "outputs": [],
   "source": [
    " "
   ]
  },
  {
   "cell_type": "code",
   "execution_count": null,
   "id": "ea5c9969-0827-4386-9215-f478b5b2d5a8",
   "metadata": {},
   "outputs": [],
   "source": []
  }
 ],
 "metadata": {
  "kernelspec": {
   "display_name": "Python 3 (ipykernel)",
   "language": "python",
   "name": "python3"
  },
  "language_info": {
   "codemirror_mode": {
    "name": "ipython",
    "version": 3
   },
   "file_extension": ".py",
   "mimetype": "text/x-python",
   "name": "python",
   "nbconvert_exporter": "python",
   "pygments_lexer": "ipython3",
   "version": "3.8.3"
  }
 },
 "nbformat": 4,
 "nbformat_minor": 5
}
